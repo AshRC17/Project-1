{
 "cells": [
  {
   "cell_type": "code",
   "execution_count": 28,
   "metadata": {},
   "outputs": [],
   "source": [
    "import pandas as pd\n",
    "import numpy as np\n",
    "import matplotlib as plt\n",
    "import us"
   ]
  },
  {
   "cell_type": "code",
   "execution_count": 47,
   "metadata": {},
   "outputs": [
    {
     "data": {
      "text/plain": [
       "array(['LASST010000000000003', 'LASST020000000000003',\n",
       "       'LASST040000000000003', 'LASST050000000000003',\n",
       "       'LASST060000000000003', 'LASST080000000000003',\n",
       "       'LASST090000000000003', 'LASST100000000000003',\n",
       "       'LASST110000000000003', 'LASST120000000000003',\n",
       "       'LASST130000000000003', 'LASST150000000000003',\n",
       "       'LASST160000000000003', 'LASST170000000000003',\n",
       "       'LASST180000000000003', 'LASST190000000000003',\n",
       "       'LASST200000000000003', 'LASST210000000000003',\n",
       "       'LASST220000000000003', 'LASST230000000000003',\n",
       "       'LASST240000000000003', 'LASST250000000000003',\n",
       "       'LASST260000000000003', 'LASST270000000000003',\n",
       "       'LASST280000000000003', 'LASST290000000000003',\n",
       "       'LASST300000000000003', 'LASST310000000000003',\n",
       "       'LASST320000000000003', 'LASST330000000000003',\n",
       "       'LASST340000000000003', 'LASST350000000000003',\n",
       "       'LASST360000000000003', 'LASST370000000000003',\n",
       "       'LASST380000000000003', 'LASST390000000000003',\n",
       "       'LASST400000000000003', 'LASST410000000000003',\n",
       "       'LASST420000000000003', 'LASST440000000000003',\n",
       "       'LASST450000000000003', 'LASST460000000000003',\n",
       "       'LASST470000000000003', 'LASST480000000000003',\n",
       "       'LASST490000000000003', 'LASST500000000000003',\n",
       "       'LASST510000000000003', 'LASST530000000000003',\n",
       "       'LASST540000000000003', 'LASST550000000000003',\n",
       "       'LASST560000000000003'], dtype=object)"
      ]
     },
     "execution_count": 47,
     "metadata": {},
     "output_type": "execute_result"
    }
   ],
   "source": [
    "employment_df = pd.read_csv(\"../Resources/stateemployment_monthly.csv\")\n",
    "\n",
    "employment_df.head()\n",
    "cleaned_df = employment_df[[\"Series ID\", \"Year\", \"Period\", \"Value\", \"1-Month % Change\"]]\n",
    "cleaned2_df = cleaned_df.rename(columns = {\"Series ID\":\"State\",\"Period\":\"Month\"})\n",
    "cleaned2_df.head()\n",
    "cleaned2_df[\"State\"].unique()"
   ]
  },
  {
   "cell_type": "code",
   "execution_count": 48,
   "metadata": {},
   "outputs": [
    {
     "name": "stderr",
     "output_type": "stream",
     "text": [
      "/Users/Axewave/opt/anaconda3/envs/PythonData2/lib/python3.6/site-packages/ipykernel_launcher.py:3: SettingWithCopyWarning: \n",
      "A value is trying to be set on a copy of a slice from a DataFrame\n",
      "\n",
      "See the caveats in the documentation: https://pandas.pydata.org/pandas-docs/stable/user_guide/indexing.html#returning-a-view-versus-a-copy\n",
      "  This is separate from the ipykernel package so we can avoid doing imports until\n",
      "/Users/Axewave/opt/anaconda3/envs/PythonData2/lib/python3.6/site-packages/ipykernel_launcher.py:4: SettingWithCopyWarning: \n",
      "A value is trying to be set on a copy of a slice from a DataFrame\n",
      "\n",
      "See the caveats in the documentation: https://pandas.pydata.org/pandas-docs/stable/user_guide/indexing.html#returning-a-view-versus-a-copy\n",
      "  after removing the cwd from sys.path.\n",
      "/Users/Axewave/opt/anaconda3/envs/PythonData2/lib/python3.6/site-packages/ipykernel_launcher.py:6: SettingWithCopyWarning: \n",
      "A value is trying to be set on a copy of a slice from a DataFrame\n",
      "\n",
      "See the caveats in the documentation: https://pandas.pydata.org/pandas-docs/stable/user_guide/indexing.html#returning-a-view-versus-a-copy\n",
      "  \n"
     ]
    },
    {
     "data": {
      "text/html": [
       "<div>\n",
       "<style scoped>\n",
       "    .dataframe tbody tr th:only-of-type {\n",
       "        vertical-align: middle;\n",
       "    }\n",
       "\n",
       "    .dataframe tbody tr th {\n",
       "        vertical-align: top;\n",
       "    }\n",
       "\n",
       "    .dataframe thead th {\n",
       "        text-align: right;\n",
       "    }\n",
       "</style>\n",
       "<table border=\"1\" class=\"dataframe\">\n",
       "  <thead>\n",
       "    <tr style=\"text-align: right;\">\n",
       "      <th></th>\n",
       "      <th>State</th>\n",
       "      <th>Year</th>\n",
       "      <th>Month</th>\n",
       "      <th>Value</th>\n",
       "      <th>1-Month % Change</th>\n",
       "    </tr>\n",
       "  </thead>\n",
       "  <tbody>\n",
       "    <tr>\n",
       "      <th>0</th>\n",
       "      <td>Alabama</td>\n",
       "      <td>2000</td>\n",
       "      <td>01</td>\n",
       "      <td>4.7</td>\n",
       "      <td>-2.1</td>\n",
       "    </tr>\n",
       "    <tr>\n",
       "      <th>1</th>\n",
       "      <td>Alabama</td>\n",
       "      <td>2000</td>\n",
       "      <td>02</td>\n",
       "      <td>4.7</td>\n",
       "      <td>0.0</td>\n",
       "    </tr>\n",
       "    <tr>\n",
       "      <th>2</th>\n",
       "      <td>Alabama</td>\n",
       "      <td>2000</td>\n",
       "      <td>03</td>\n",
       "      <td>4.6</td>\n",
       "      <td>-2.1</td>\n",
       "    </tr>\n",
       "    <tr>\n",
       "      <th>3</th>\n",
       "      <td>Alabama</td>\n",
       "      <td>2000</td>\n",
       "      <td>04</td>\n",
       "      <td>4.6</td>\n",
       "      <td>0.0</td>\n",
       "    </tr>\n",
       "    <tr>\n",
       "      <th>4</th>\n",
       "      <td>Alabama</td>\n",
       "      <td>2000</td>\n",
       "      <td>05</td>\n",
       "      <td>4.5</td>\n",
       "      <td>-2.2</td>\n",
       "    </tr>\n",
       "    <tr>\n",
       "      <th>...</th>\n",
       "      <td>...</td>\n",
       "      <td>...</td>\n",
       "      <td>...</td>\n",
       "      <td>...</td>\n",
       "      <td>...</td>\n",
       "    </tr>\n",
       "    <tr>\n",
       "      <th>12388</th>\n",
       "      <td>Wyoming</td>\n",
       "      <td>2019</td>\n",
       "      <td>11</td>\n",
       "      <td>3.7</td>\n",
       "      <td>0.0</td>\n",
       "    </tr>\n",
       "    <tr>\n",
       "      <th>12389</th>\n",
       "      <td>Wyoming</td>\n",
       "      <td>2019</td>\n",
       "      <td>12</td>\n",
       "      <td>3.7</td>\n",
       "      <td>0.0</td>\n",
       "    </tr>\n",
       "    <tr>\n",
       "      <th>12390</th>\n",
       "      <td>Wyoming</td>\n",
       "      <td>2020</td>\n",
       "      <td>01</td>\n",
       "      <td>3.7</td>\n",
       "      <td>0.0</td>\n",
       "    </tr>\n",
       "    <tr>\n",
       "      <th>12391</th>\n",
       "      <td>Wyoming</td>\n",
       "      <td>2020</td>\n",
       "      <td>02</td>\n",
       "      <td>3.7</td>\n",
       "      <td>0.0</td>\n",
       "    </tr>\n",
       "    <tr>\n",
       "      <th>12392</th>\n",
       "      <td>Wyoming</td>\n",
       "      <td>2020</td>\n",
       "      <td>03</td>\n",
       "      <td>3.7</td>\n",
       "      <td>0.0</td>\n",
       "    </tr>\n",
       "  </tbody>\n",
       "</table>\n",
       "<p>12393 rows × 5 columns</p>\n",
       "</div>"
      ],
      "text/plain": [
       "         State  Year Month  Value  1-Month % Change\n",
       "0      Alabama  2000    01    4.7              -2.1\n",
       "1      Alabama  2000    02    4.7               0.0\n",
       "2      Alabama  2000    03    4.6              -2.1\n",
       "3      Alabama  2000    04    4.6               0.0\n",
       "4      Alabama  2000    05    4.5              -2.2\n",
       "...        ...   ...   ...    ...               ...\n",
       "12388  Wyoming  2019    11    3.7               0.0\n",
       "12389  Wyoming  2019    12    3.7               0.0\n",
       "12390  Wyoming  2020    01    3.7               0.0\n",
       "12391  Wyoming  2020    02    3.7               0.0\n",
       "12392  Wyoming  2020    03    3.7               0.0\n",
       "\n",
       "[12393 rows x 5 columns]"
      ]
     },
     "execution_count": 48,
     "metadata": {},
     "output_type": "execute_result"
    }
   ],
   "source": [
    "state = []\n",
    "for x in np.arange(0,len(cleaned2_df)):\n",
    "    cleaned2_df[\"Month\"][x] = cleaned2_df[\"Month\"][x].strip(\"M\")\n",
    "    cleaned2_df[\"State\"][x] = cleaned2_df[\"State\"][x].strip(\"LASST\")\n",
    "    state.append(cleaned2_df[\"State\"][x][0:2])\n",
    "    cleaned2_df[\"State\"][x] = us.states.lookup(state[x])\n",
    "    \n",
    "        \n",
    "cleaned2_df\n",
    "#cleaned2_df.to_csv(r'../Resources/cleanedstateemployment_monthly.csv', index = False)\n"
   ]
  },
  {
   "cell_type": "code",
   "execution_count": 49,
   "metadata": {},
   "outputs": [
    {
     "data": {
      "text/plain": [
       "51"
      ]
     },
     "execution_count": 49,
     "metadata": {},
     "output_type": "execute_result"
    }
   ],
   "source": [
    "len(cleaned2_df[\"State\"].unique())"
   ]
  },
  {
   "cell_type": "code",
   "execution_count": 50,
   "metadata": {},
   "outputs": [],
   "source": [
    "cleaned2_df.to_csv(r'../Resources/cleanedstateemployment_monthly.csv', index = False)"
   ]
  },
  {
   "cell_type": "code",
   "execution_count": null,
   "metadata": {},
   "outputs": [],
   "source": []
  }
 ],
 "metadata": {
  "kernelspec": {
   "display_name": "PythonData2",
   "language": "python",
   "name": "pythondata2"
  },
  "language_info": {
   "codemirror_mode": {
    "name": "ipython",
    "version": 3
   },
   "file_extension": ".py",
   "mimetype": "text/x-python",
   "name": "python",
   "nbconvert_exporter": "python",
   "pygments_lexer": "ipython3",
   "version": "3.6.10"
  }
 },
 "nbformat": 4,
 "nbformat_minor": 4
}
