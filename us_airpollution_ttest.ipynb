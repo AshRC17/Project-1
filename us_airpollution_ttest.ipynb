{
 "cells": [
  {
   "cell_type": "code",
   "execution_count": 16,
   "metadata": {},
   "outputs": [],
   "source": [
    "import pandas as pd \n",
    "import dask.dataframe as dd\n",
    "import os\n",
    "import scipy.stats as stats\n",
    "from numpy import int64"
   ]
  },
  {
   "cell_type": "code",
   "execution_count": 17,
   "metadata": {},
   "outputs": [
    {
     "data": {
      "text/html": [
       "<div>\n",
       "<style scoped>\n",
       "    .dataframe tbody tr th:only-of-type {\n",
       "        vertical-align: middle;\n",
       "    }\n",
       "\n",
       "    .dataframe tbody tr th {\n",
       "        vertical-align: top;\n",
       "    }\n",
       "\n",
       "    .dataframe thead th {\n",
       "        text-align: right;\n",
       "    }\n",
       "</style>\n",
       "<table border=\"1\" class=\"dataframe\">\n",
       "  <thead>\n",
       "    <tr style=\"text-align: right;\">\n",
       "      <th></th>\n",
       "      <th>Sample Month</th>\n",
       "      <th>Average of NO2 Mean</th>\n",
       "      <th>Average of O3 Mean</th>\n",
       "      <th>Average of SO2 Mean</th>\n",
       "      <th>Average of CO Mean</th>\n",
       "    </tr>\n",
       "    <tr>\n",
       "      <th>Sample Year</th>\n",
       "      <th></th>\n",
       "      <th></th>\n",
       "      <th></th>\n",
       "      <th></th>\n",
       "      <th></th>\n",
       "    </tr>\n",
       "  </thead>\n",
       "  <tbody>\n",
       "    <tr>\n",
       "      <th>2005</th>\n",
       "      <td>6.473684</td>\n",
       "      <td>15.684710</td>\n",
       "      <td>0.025133</td>\n",
       "      <td>3.194487</td>\n",
       "      <td>0.445421</td>\n",
       "    </tr>\n",
       "    <tr>\n",
       "      <th>2006</th>\n",
       "      <td>6.479532</td>\n",
       "      <td>14.869245</td>\n",
       "      <td>0.025447</td>\n",
       "      <td>3.175568</td>\n",
       "      <td>0.439297</td>\n",
       "    </tr>\n",
       "    <tr>\n",
       "      <th>2007</th>\n",
       "      <td>6.263158</td>\n",
       "      <td>14.183081</td>\n",
       "      <td>0.024907</td>\n",
       "      <td>2.711292</td>\n",
       "      <td>0.406916</td>\n",
       "    </tr>\n",
       "    <tr>\n",
       "      <th>2008</th>\n",
       "      <td>6.372222</td>\n",
       "      <td>13.614705</td>\n",
       "      <td>0.024977</td>\n",
       "      <td>2.397886</td>\n",
       "      <td>0.369068</td>\n",
       "    </tr>\n",
       "    <tr>\n",
       "      <th>2009</th>\n",
       "      <td>6.531250</td>\n",
       "      <td>12.228444</td>\n",
       "      <td>0.024375</td>\n",
       "      <td>1.907799</td>\n",
       "      <td>0.329106</td>\n",
       "    </tr>\n",
       "    <tr>\n",
       "      <th>2010</th>\n",
       "      <td>6.372159</td>\n",
       "      <td>12.497743</td>\n",
       "      <td>0.026131</td>\n",
       "      <td>1.846468</td>\n",
       "      <td>0.352010</td>\n",
       "    </tr>\n",
       "    <tr>\n",
       "      <th>2011</th>\n",
       "      <td>6.468750</td>\n",
       "      <td>13.158366</td>\n",
       "      <td>0.026269</td>\n",
       "      <td>1.612835</td>\n",
       "      <td>0.324969</td>\n",
       "    </tr>\n",
       "    <tr>\n",
       "      <th>2012</th>\n",
       "      <td>6.525568</td>\n",
       "      <td>12.718307</td>\n",
       "      <td>0.027129</td>\n",
       "      <td>1.158833</td>\n",
       "      <td>0.324887</td>\n",
       "    </tr>\n",
       "    <tr>\n",
       "      <th>2013</th>\n",
       "      <td>6.676471</td>\n",
       "      <td>11.671299</td>\n",
       "      <td>0.025579</td>\n",
       "      <td>1.082886</td>\n",
       "      <td>0.278182</td>\n",
       "    </tr>\n",
       "    <tr>\n",
       "      <th>2014</th>\n",
       "      <td>6.722222</td>\n",
       "      <td>11.187337</td>\n",
       "      <td>0.025525</td>\n",
       "      <td>1.066207</td>\n",
       "      <td>0.275658</td>\n",
       "    </tr>\n",
       "    <tr>\n",
       "      <th>2015</th>\n",
       "      <td>6.520202</td>\n",
       "      <td>10.956970</td>\n",
       "      <td>0.025497</td>\n",
       "      <td>0.854490</td>\n",
       "      <td>0.282139</td>\n",
       "    </tr>\n",
       "    <tr>\n",
       "      <th>2016</th>\n",
       "      <td>2.294118</td>\n",
       "      <td>11.621863</td>\n",
       "      <td>0.026158</td>\n",
       "      <td>0.809190</td>\n",
       "      <td>0.298950</td>\n",
       "    </tr>\n",
       "  </tbody>\n",
       "</table>\n",
       "</div>"
      ],
      "text/plain": [
       "             Sample Month  Average of NO2 Mean  Average of O3 Mean  \\\n",
       "Sample Year                                                          \n",
       "2005             6.473684            15.684710            0.025133   \n",
       "2006             6.479532            14.869245            0.025447   \n",
       "2007             6.263158            14.183081            0.024907   \n",
       "2008             6.372222            13.614705            0.024977   \n",
       "2009             6.531250            12.228444            0.024375   \n",
       "2010             6.372159            12.497743            0.026131   \n",
       "2011             6.468750            13.158366            0.026269   \n",
       "2012             6.525568            12.718307            0.027129   \n",
       "2013             6.676471            11.671299            0.025579   \n",
       "2014             6.722222            11.187337            0.025525   \n",
       "2015             6.520202            10.956970            0.025497   \n",
       "2016             2.294118            11.621863            0.026158   \n",
       "\n",
       "             Average of SO2 Mean  Average of CO Mean  \n",
       "Sample Year                                           \n",
       "2005                    3.194487            0.445421  \n",
       "2006                    3.175568            0.439297  \n",
       "2007                    2.711292            0.406916  \n",
       "2008                    2.397886            0.369068  \n",
       "2009                    1.907799            0.329106  \n",
       "2010                    1.846468            0.352010  \n",
       "2011                    1.612835            0.324969  \n",
       "2012                    1.158833            0.324887  \n",
       "2013                    1.082886            0.278182  \n",
       "2014                    1.066207            0.275658  \n",
       "2015                    0.854490            0.282139  \n",
       "2016                    0.809190            0.298950  "
      ]
     },
     "execution_count": 17,
     "metadata": {},
     "output_type": "execute_result"
    }
   ],
   "source": [
    "#emission data\n",
    "emiss_csv = \"Resources/cleaned_upollution_2005_2016.csv\"\n",
    "emiss_df = pd.read_csv(emiss_csv)\n",
    "\n",
    "#determine earliest sample year\n",
    "min_group = emiss_df.groupby(['State']).min()\n",
    "\n",
    "#group.head()\n",
    "\n",
    "#only states w data from '05 onward\n",
    "states_df = min_group.loc[min_group['Sample Year'] == 2005].reset_index()\n",
    "em_st = states_df['State']\n",
    "#em_st\n",
    "\n",
    "#pull only states w data from 05 from annual data\n",
    "ann_emiss = emiss_df.groupby(['State', 'Sample Year']).mean().reset_index()\n",
    "\n",
    "ann_emiss = ann_emiss[ann_emiss.State.isin(em_st)]\n",
    "\n",
    "#ann_emiss.groupby(['State', 'Sample Year']).mean()\n",
    "\n",
    "ann_emiss = ann_emiss.groupby(['Sample Year']).mean()\n",
    "\n",
    "ann_emiss"
   ]
  },
  {
   "cell_type": "code",
   "execution_count": 24,
   "metadata": {},
   "outputs": [
    {
     "data": {
      "text/plain": [
       "<bound method DataFrame.info of            State  Sample Year  Sample Month          NO2 Units  \\\n",
       "0        Arizona         2005             1  Parts per billion   \n",
       "1        Arizona         2005             2  Parts per billion   \n",
       "2        Arizona         2005             3  Parts per billion   \n",
       "3        Arizona         2005             4  Parts per billion   \n",
       "4        Arizona         2005             5  Parts per billion   \n",
       "...          ...          ...           ...                ...   \n",
       "4018    Virginia         2016             2  Parts per billion   \n",
       "4019  Washington         2016             1  Parts per billion   \n",
       "4020     Wyoming         2016             1  Parts per billion   \n",
       "4021     Wyoming         2016             2  Parts per billion   \n",
       "4022     Wyoming         2016             3  Parts per billion   \n",
       "\n",
       "      Average of NO2 Mean           O3 Units  Average of O3 Mean  \\\n",
       "0               22.674850  Parts per million            0.010018   \n",
       "1               19.542680  Parts per million            0.015479   \n",
       "2               19.674832  Parts per million            0.024243   \n",
       "3               21.509326  Parts per million            0.031231   \n",
       "4               19.719337  Parts per million            0.031362   \n",
       "...                   ...                ...                 ...   \n",
       "4018             8.902051  Parts per million            0.025058   \n",
       "4019            14.730538  Parts per million            0.015901   \n",
       "4020             4.359764  Parts per million            0.037673   \n",
       "4021             2.610661  Parts per million            0.040319   \n",
       "4022             3.247965  Parts per million            0.039541   \n",
       "\n",
       "              SO2 Units  Average of SO2 Mean           CO Units  \\\n",
       "0     Parts per billion             1.215276  Parts per million   \n",
       "1     Parts per billion             0.678611  Parts per million   \n",
       "2     Parts per billion             1.245270  Parts per million   \n",
       "3     Parts per billion             1.787622  Parts per million   \n",
       "4     Parts per billion             2.313748  Parts per million   \n",
       "...                 ...                  ...                ...   \n",
       "4018  Parts per billion             0.498947  Parts per million   \n",
       "4019  Parts per billion             0.202716  Parts per million   \n",
       "4020  Parts per billion            -0.054836  Parts per million   \n",
       "4021  Parts per billion            -0.065226  Parts per million   \n",
       "4022  Parts per billion             0.018929  Parts per million   \n",
       "\n",
       "      Average of CO Mean  \n",
       "0               0.661753  \n",
       "1               0.466213  \n",
       "2               0.523486  \n",
       "3               0.605336  \n",
       "4               0.565971  \n",
       "...                  ...  \n",
       "4018            0.282484  \n",
       "4019            0.274327  \n",
       "4020            0.101135  \n",
       "4021            0.084270  \n",
       "4022            0.091466  \n",
       "\n",
       "[4023 rows x 11 columns]>"
      ]
     },
     "execution_count": 24,
     "metadata": {},
     "output_type": "execute_result"
    }
   ],
   "source": [
    "emiss_df.info"
   ]
  },
  {
   "cell_type": "code",
   "execution_count": 27,
   "metadata": {},
   "outputs": [],
   "source": [
    "Year1 = emiss_df[emiss_df[\"Sample Year\"] == 2007]\n",
    "Year2 = emiss_df[emiss_df[\"Sample Year\"] == 2010]"
   ]
  },
  {
   "cell_type": "code",
   "execution_count": 34,
   "metadata": {},
   "outputs": [
    {
     "data": {
      "text/plain": [
       "Ttest_indResult(statistic=3.8486221100890963, pvalue=0.00013087470415294478)"
      ]
     },
     "execution_count": 34,
     "metadata": {},
     "output_type": "execute_result"
    }
   ],
   "source": [
    "from scipy.stats import ttest_ind\n",
    "\n",
    "ttest_ind(Year1[\"Average of NO2 Mean\"], Year2[\"Average of NO2 Mean\"])"
   ]
  },
  {
   "cell_type": "code",
   "execution_count": 31,
   "metadata": {},
   "outputs": [],
   "source": [
    "Year1 = emiss_df[emiss_df[\"Sample Year\"] == 2007]\n",
    "Year2 = emiss_df[emiss_df[\"Sample Year\"] == 2010]"
   ]
  },
  {
   "cell_type": "code",
   "execution_count": 33,
   "metadata": {},
   "outputs": [
    {
     "data": {
      "text/plain": [
       "Ttest_indResult(statistic=7.400755724292351, pvalue=4.86791088198715e-13)"
      ]
     },
     "execution_count": 33,
     "metadata": {},
     "output_type": "execute_result"
    }
   ],
   "source": [
    "stats.ttest_ind(Year1[\"Average of SO2 Mean\"], Year2[\"Average of SO2 Mean\"], equal_var=False)"
   ]
  },
  {
   "cell_type": "code",
   "execution_count": null,
   "metadata": {},
   "outputs": [],
   "source": []
  }
 ],
 "metadata": {
  "kernelspec": {
   "display_name": "Python 3",
   "language": "python",
   "name": "python3"
  },
  "language_info": {
   "codemirror_mode": {
    "name": "ipython",
    "version": 3
   },
   "file_extension": ".py",
   "mimetype": "text/x-python",
   "name": "python",
   "nbconvert_exporter": "python",
   "pygments_lexer": "ipython3",
   "version": "3.6.10"
  }
 },
 "nbformat": 4,
 "nbformat_minor": 4
}
